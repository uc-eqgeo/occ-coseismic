{
 "cells": [
  {
   "cell_type": "code",
   "execution_count": 2,
   "id": "45eef4b6",
   "metadata": {},
   "outputs": [
    {
     "ename": "OSError",
     "evalue": "[Errno 0] Unable to synchronously open file (unable to lock file, errno = 0, error message = 'No error', Win32 GetLastError() = 33)",
     "output_type": "error",
     "traceback": [
      "\u001b[1;31m---------------------------------------------------------------------------\u001b[0m",
      "\u001b[1;31mOSError\u001b[0m                                   Traceback (most recent call last)",
      "Cell \u001b[1;32mIn[2], line 17\u001b[0m\n\u001b[0;32m     13\u001b[0m time_interval \u001b[38;5;241m=\u001b[39m [\u001b[38;5;241m5\u001b[39m, \u001b[38;5;241m10\u001b[39m, \u001b[38;5;241m15\u001b[39m, \u001b[38;5;241m20\u001b[39m, \u001b[38;5;241m30\u001b[39m, \u001b[38;5;241m40\u001b[39m, \u001b[38;5;241m50\u001b[39m, \u001b[38;5;241m60\u001b[39m, \u001b[38;5;241m70\u001b[39m, \u001b[38;5;241m80\u001b[39m, \u001b[38;5;241m90\u001b[39m, \u001b[38;5;241m100\u001b[39m, \u001b[38;5;241m125\u001b[39m, \u001b[38;5;241m150\u001b[39m]\n\u001b[0;32m     15\u001b[0m site \u001b[38;5;241m=\u001b[39m \u001b[38;5;124m'\u001b[39m\u001b[38;5;124mParaparaumu\u001b[39m\u001b[38;5;124m'\u001b[39m\n\u001b[1;32m---> 17\u001b[0m PPEh5 \u001b[38;5;241m=\u001b[39m \u001b[43mh5\u001b[49m\u001b[38;5;241;43m.\u001b[39;49m\u001b[43mFile\u001b[49m\u001b[43m(\u001b[49m\u001b[43mh5_file\u001b[49m\u001b[43m,\u001b[49m\u001b[43m \u001b[49m\u001b[38;5;124;43m'\u001b[39;49m\u001b[38;5;124;43mr\u001b[39;49m\u001b[38;5;124;43m'\u001b[39;49m\u001b[43m)\u001b[49m\n\u001b[0;32m     19\u001b[0m sigma_lims \u001b[38;5;241m=\u001b[39m PPEh5[\u001b[38;5;124m'\u001b[39m\u001b[38;5;124msigma_lims\u001b[39m\u001b[38;5;124m'\u001b[39m][:]\n\u001b[0;32m     20\u001b[0m error_ix \u001b[38;5;241m=\u001b[39m [ix \u001b[38;5;28;01mfor\u001b[39;00m ix \u001b[38;5;129;01min\u001b[39;00m \u001b[38;5;28mrange\u001b[39m(\u001b[38;5;28mlen\u001b[39m(sigma_lims))]\n",
      "File \u001b[1;32mc:\\Users\\jmc753\\AppData\\Local\\anaconda3\\envs\\jack\\lib\\site-packages\\h5py\\_hl\\files.py:562\u001b[0m, in \u001b[0;36mFile.__init__\u001b[1;34m(self, name, mode, driver, libver, userblock_size, swmr, rdcc_nslots, rdcc_nbytes, rdcc_w0, track_order, fs_strategy, fs_persist, fs_threshold, fs_page_size, page_buf_size, min_meta_keep, min_raw_keep, locking, alignment_threshold, alignment_interval, meta_block_size, **kwds)\u001b[0m\n\u001b[0;32m    553\u001b[0m     fapl \u001b[38;5;241m=\u001b[39m make_fapl(driver, libver, rdcc_nslots, rdcc_nbytes, rdcc_w0,\n\u001b[0;32m    554\u001b[0m                      locking, page_buf_size, min_meta_keep, min_raw_keep,\n\u001b[0;32m    555\u001b[0m                      alignment_threshold\u001b[38;5;241m=\u001b[39malignment_threshold,\n\u001b[0;32m    556\u001b[0m                      alignment_interval\u001b[38;5;241m=\u001b[39malignment_interval,\n\u001b[0;32m    557\u001b[0m                      meta_block_size\u001b[38;5;241m=\u001b[39mmeta_block_size,\n\u001b[0;32m    558\u001b[0m                      \u001b[38;5;241m*\u001b[39m\u001b[38;5;241m*\u001b[39mkwds)\n\u001b[0;32m    559\u001b[0m     fcpl \u001b[38;5;241m=\u001b[39m make_fcpl(track_order\u001b[38;5;241m=\u001b[39mtrack_order, fs_strategy\u001b[38;5;241m=\u001b[39mfs_strategy,\n\u001b[0;32m    560\u001b[0m                      fs_persist\u001b[38;5;241m=\u001b[39mfs_persist, fs_threshold\u001b[38;5;241m=\u001b[39mfs_threshold,\n\u001b[0;32m    561\u001b[0m                      fs_page_size\u001b[38;5;241m=\u001b[39mfs_page_size)\n\u001b[1;32m--> 562\u001b[0m     fid \u001b[38;5;241m=\u001b[39m \u001b[43mmake_fid\u001b[49m\u001b[43m(\u001b[49m\u001b[43mname\u001b[49m\u001b[43m,\u001b[49m\u001b[43m \u001b[49m\u001b[43mmode\u001b[49m\u001b[43m,\u001b[49m\u001b[43m \u001b[49m\u001b[43muserblock_size\u001b[49m\u001b[43m,\u001b[49m\u001b[43m \u001b[49m\u001b[43mfapl\u001b[49m\u001b[43m,\u001b[49m\u001b[43m \u001b[49m\u001b[43mfcpl\u001b[49m\u001b[43m,\u001b[49m\u001b[43m \u001b[49m\u001b[43mswmr\u001b[49m\u001b[38;5;241;43m=\u001b[39;49m\u001b[43mswmr\u001b[49m\u001b[43m)\u001b[49m\n\u001b[0;32m    564\u001b[0m \u001b[38;5;28;01mif\u001b[39;00m \u001b[38;5;28misinstance\u001b[39m(libver, \u001b[38;5;28mtuple\u001b[39m):\n\u001b[0;32m    565\u001b[0m     \u001b[38;5;28mself\u001b[39m\u001b[38;5;241m.\u001b[39m_libver \u001b[38;5;241m=\u001b[39m libver\n",
      "File \u001b[1;32mc:\\Users\\jmc753\\AppData\\Local\\anaconda3\\envs\\jack\\lib\\site-packages\\h5py\\_hl\\files.py:235\u001b[0m, in \u001b[0;36mmake_fid\u001b[1;34m(name, mode, userblock_size, fapl, fcpl, swmr)\u001b[0m\n\u001b[0;32m    233\u001b[0m     \u001b[38;5;28;01mif\u001b[39;00m swmr \u001b[38;5;129;01mand\u001b[39;00m swmr_support:\n\u001b[0;32m    234\u001b[0m         flags \u001b[38;5;241m|\u001b[39m\u001b[38;5;241m=\u001b[39m h5f\u001b[38;5;241m.\u001b[39mACC_SWMR_READ\n\u001b[1;32m--> 235\u001b[0m     fid \u001b[38;5;241m=\u001b[39m \u001b[43mh5f\u001b[49m\u001b[38;5;241;43m.\u001b[39;49m\u001b[43mopen\u001b[49m\u001b[43m(\u001b[49m\u001b[43mname\u001b[49m\u001b[43m,\u001b[49m\u001b[43m \u001b[49m\u001b[43mflags\u001b[49m\u001b[43m,\u001b[49m\u001b[43m \u001b[49m\u001b[43mfapl\u001b[49m\u001b[38;5;241;43m=\u001b[39;49m\u001b[43mfapl\u001b[49m\u001b[43m)\u001b[49m\n\u001b[0;32m    236\u001b[0m \u001b[38;5;28;01melif\u001b[39;00m mode \u001b[38;5;241m==\u001b[39m \u001b[38;5;124m'\u001b[39m\u001b[38;5;124mr+\u001b[39m\u001b[38;5;124m'\u001b[39m:\n\u001b[0;32m    237\u001b[0m     fid \u001b[38;5;241m=\u001b[39m h5f\u001b[38;5;241m.\u001b[39mopen(name, h5f\u001b[38;5;241m.\u001b[39mACC_RDWR, fapl\u001b[38;5;241m=\u001b[39mfapl)\n",
      "File \u001b[1;32mh5py\\_objects.pyx:54\u001b[0m, in \u001b[0;36mh5py._objects.with_phil.wrapper\u001b[1;34m()\u001b[0m\n",
      "File \u001b[1;32mh5py\\_objects.pyx:55\u001b[0m, in \u001b[0;36mh5py._objects.with_phil.wrapper\u001b[1;34m()\u001b[0m\n",
      "File \u001b[1;32mh5py\\h5f.pyx:102\u001b[0m, in \u001b[0;36mh5py.h5f.open\u001b[1;34m()\u001b[0m\n",
      "\u001b[1;31mOSError\u001b[0m: [Errno 0] Unable to synchronously open file (unable to lock file, errno = 0, error message = 'No error', Win32 GetLastError() = 33)"
     ]
    }
   ],
   "source": [
    "import h5py as h5\n",
    "import os\n",
    "import matplotlib.pyplot as plt\n",
    "from probabalistic_displacement_scripts import get_exceedance_bar_chart_data\n",
    "import numpy as np\n",
    "\n",
    "# os.chdir(os.path.dirname(os.path.abspath(__file__)))\n",
    "results_dir = os.path.join('..', 'results', 'fq_hikkerm')\n",
    "\n",
    "h5_file = os.path.join(results_dir, 'weighted_mean_PPE_dict_uniform.h5')\n",
    "\n",
    "\n",
    "time_interval = [5, 10, 15, 20, 30, 40, 50, 60, 70, 80, 90, 100, 125, 150]\n",
    "\n",
    "site = 'Paraparaumu'\n",
    "\n",
    "PPEh5 = h5.File(h5_file, 'r')\n",
    "\n",
    "sigma_lims = PPEh5['sigma_lims'][:]\n",
    "error_ix = [ix for ix in range(len(sigma_lims))]\n",
    "\n",
    "exceed_type = 'down'\n",
    "\n",
    "disps = np.zeros((3, len(time_interval), 1))\n",
    "errs = np.zeros((3, len(time_interval), len(sigma_lims)))"
   ]
  },
  {
   "cell_type": "code",
   "execution_count": null,
   "id": "71ff5c82",
   "metadata": {},
   "outputs": [],
   "source": [
    "probability = 0.02\n",
    "sites = [site]\n",
    "weighted = True"
   ]
  },
  {
   "cell_type": "code",
   "execution_count": null,
   "id": "14b15a5e",
   "metadata": {},
   "outputs": [
    {
     "ename": "NameError",
     "evalue": "name 'time_interval' is not defined",
     "output_type": "error",
     "traceback": [
      "\u001b[1;31m---------------------------------------------------------------------------\u001b[0m",
      "\u001b[1;31mNameError\u001b[0m                                 Traceback (most recent call last)",
      "Cell \u001b[1;32mIn[1], line 2\u001b[0m\n\u001b[0;32m      1\u001b[0m \u001b[38;5;28;01mfor\u001b[39;00m e_ix, exceed_type \u001b[38;5;129;01min\u001b[39;00m \u001b[38;5;28menumerate\u001b[39m([\u001b[38;5;124m'\u001b[39m\u001b[38;5;124mtotal_abs\u001b[39m\u001b[38;5;124m'\u001b[39m, \u001b[38;5;124m'\u001b[39m\u001b[38;5;124mup\u001b[39m\u001b[38;5;124m'\u001b[39m, \u001b[38;5;124m'\u001b[39m\u001b[38;5;124mdown\u001b[39m\u001b[38;5;124m'\u001b[39m]):\n\u001b[1;32m----> 2\u001b[0m     \u001b[38;5;28;01mfor\u001b[39;00m ix, interval \u001b[38;5;129;01min\u001b[39;00m \u001b[38;5;28menumerate\u001b[39m(\u001b[43mtime_interval\u001b[49m):\n\u001b[0;32m      3\u001b[0m         disps[e_ix, ix, :], site_err \u001b[38;5;241m=\u001b[39m get_exceedance_bar_chart_data(site_PPE_dictionary\u001b[38;5;241m=\u001b[39mPPEh5, exceed_type\u001b[38;5;241m=\u001b[39mexceed_type, site_list\u001b[38;5;241m=\u001b[39msites, probability\u001b[38;5;241m=\u001b[39mprobability, weighted\u001b[38;5;241m=\u001b[39mweighted, interval\u001b[38;5;241m=\u001b[39m\u001b[38;5;28mstr\u001b[39m(interval), err_index\u001b[38;5;241m=\u001b[39merror_ix)\n\u001b[0;32m      4\u001b[0m         errs[e_ix, ix, :] \u001b[38;5;241m=\u001b[39m site_err[\u001b[38;5;241m0\u001b[39m]\n",
      "\u001b[1;31mNameError\u001b[0m: name 'time_interval' is not defined"
     ]
    }
   ],
   "source": [
    "for e_ix, exceed_type in enumerate(['total_abs', 'up', 'down']):\n",
    "    for ix, interval in enumerate(time_interval):\n",
    "        disps[e_ix, ix, :], site_err = get_exceedance_bar_chart_data(site_PPE_dictionary=PPEh5, exceed_type=exceed_type, site_list=sites, probability=probability, weighted=weighted, interval=str(interval), err_index=error_ix)\n",
    "        errs[e_ix, ix, :] = site_err[0]\n",
    "    if e_ix == 0:\n",
    "        ymax = np.ceil(np.max(np.abs(errs.flatten())) * 10) / 10\n",
    "    plt.scatter(time_interval, disps[e_ix, :, 0], label='weighted mean')\n",
    "    for ix, sigma in enumerate(sigma_lims):\n",
    "        plt.scatter(time_interval, errs[e_ix, :, ix], marker='x', color=plt.cm.viridis(ix / len(sigma_lims)), label=f'{sigma}%')\n",
    "    plt.xlabel('Time Interval (years)')\n",
    "    plt.ylabel('Displacement (m)')\n",
    "    plt.legend()\n",
    "    if exceed_type == 'down':\n",
    "        plt.ylim([-ymax, 0])\n",
    "    else:\n",
    "        plt.ylim([0, ymax])\n",
    "\n",
    "    plt.title(f'{site} {exceed_type} {probability * 100}% Exceedance')\n",
    "    plt.show()\n",
    "\n",
    "PPEh5.close()"
   ]
  }
 ],
 "metadata": {
  "kernelspec": {
   "display_name": "jack",
   "language": "python",
   "name": "python3"
  },
  "language_info": {
   "codemirror_mode": {
    "name": "ipython",
    "version": 3
   },
   "file_extension": ".py",
   "mimetype": "text/x-python",
   "name": "python",
   "nbconvert_exporter": "python",
   "pygments_lexer": "ipython3",
   "version": "3.10.13"
  }
 },
 "nbformat": 4,
 "nbformat_minor": 5
}
